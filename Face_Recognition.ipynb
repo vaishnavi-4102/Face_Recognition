{
 "cells": [
  {
   "cell_type": "code",
   "execution_count": 10,
   "metadata": {},
   "outputs": [],
   "source": [
    "# pip install cmake\n",
    "# pip install face_recognition\n",
    "# pip install opencv-python"
   ]
  },
  {
   "cell_type": "code",
   "execution_count": 11,
   "metadata": {},
   "outputs": [],
   "source": [
    "# importing the necessary packages\n",
    "import face_recognition\n",
    "import cv2\n",
    "import numpy as np\n",
    "import csv\n",
    "from datetime import datetime"
   ]
  },
  {
   "cell_type": "code",
   "execution_count": 12,
   "metadata": {},
   "outputs": [],
   "source": [
    "video_capture = cv2.VideoCapture(0)"
   ]
  },
  {
   "cell_type": "code",
   "execution_count": 13,
   "metadata": {},
   "outputs": [],
   "source": [
    "# Load known faces\n",
    "nawaz_image = face_recognition.load_image_file(\"faces/1.png\")\n",
    "#Encoding the image\n",
    "# Encoding: Connverting image to numbers\n",
    "nawaz_face_encoding = face_recognition.face_encodings(nawaz_image)[0]\n",
    "\n",
    "babloo_image = face_recognition.load_image_file(\"faces/babloo.jpg\")\n",
    "babloo_face_encoding = face_recognition.face_encodings(babloo_image)[0]\n",
    "\n",
    "vaishnavi_image = face_recognition.load_image_file(\"faces/vaishnavi_singh.jpeg\")\n",
    "vaishnavi_image_encoding = face_recognition.face_encodings(vaishnavi_image)[0]"
   ]
  },
  {
   "cell_type": "code",
   "execution_count": 14,
   "metadata": {},
   "outputs": [],
   "source": [
    "known_face_encodings = [nawaz_face_encoding,babloo_face_encoding,vaishnavi_image_encoding]\n",
    "known_face_names = [\"Nawaz\",\"Babloo\",\"Vaishnavi\"]"
   ]
  },
  {
   "cell_type": "code",
   "execution_count": 15,
   "metadata": {},
   "outputs": [],
   "source": [
    "# List of Students\n",
    "student =known_face_names.copy()\n",
    "\n",
    "face_locations = []\n",
    "face_encodings = []"
   ]
  },
  {
   "cell_type": "code",
   "execution_count": 16,
   "metadata": {},
   "outputs": [],
   "source": [
    "# Get current date and time\n",
    "now = datetime.now()\n",
    "current_date = now.strftime(\"%d-%m-%Y\")\n"
   ]
  },
  {
   "cell_type": "code",
   "execution_count": 17,
   "metadata": {},
   "outputs": [],
   "source": [
    "# Opening the csv file in append mode with file pointer as fp\n",
    "f = open(f\"{current_date}.csv\", \"w+\", newline=\"\")\n",
    "writer = csv.writer(f)"
   ]
  },
  {
   "cell_type": "code",
   "execution_count": 18,
   "metadata": {},
   "outputs": [],
   "source": [
    "while True:\n",
    "    _, frame = video_capture.read()\n",
    "    small_frame = cv2.resize(frame,(0,0),fx=0.75,fy=0.75)\n",
    "    rgb_small_frame = cv2.cvtColor(small_frame, cv2.COLOR_BGR2RGB)\n",
    "\n",
    "    # Recognize faces\n",
    "    face_locations = face_recognition.face_locations(rgb_small_frame)\n",
    "    face_encodings = face_recognition.face_encodings(rgb_small_frame, face_locations)\n",
    "\n",
    "    name = None\n",
    "    \n",
    "    for face in face_encodings:\n",
    "        matches = face_recognition.compare_faces(known_face_encodings,face)\n",
    "        face_distance = face_recognition.face_distance(known_face_encodings,face)\n",
    "        best_match_index = np.argmin(face_distance)\n",
    "\n",
    "        if matches[best_match_index]:\n",
    "            name = known_face_names[best_match_index]\n",
    "    \n",
    "        # Add text if a person is present\n",
    "        if name in known_face_names:\n",
    "            font = cv2.FONT_HERSHEY_SIMPLEX\n",
    "            bottomLeftCornerOfText = (10,50)\n",
    "            fontScale = 1.5\n",
    "            fontColor = (0,0,0)\n",
    "            lineType = 2\n",
    "            thickness = 3\n",
    "            cv2.putText(frame,f\"Present: {name}\",bottomLeftCornerOfText,font,fontScale,fontColor,thickness,lineType)\n",
    "\n",
    "\n",
    "            if name in student:\n",
    "                student.remove(name)\n",
    "                current_time = now.strftime(\"%H:%M:%S\")\n",
    "                writer.writerow([name,current_time])\n",
    "\n",
    "    cv2.imshow(\"Attendance\",frame)\n",
    "    if cv2.waitKey(1) & 0xFF == ord('q'):\n",
    "        break\n",
    "\n",
    "video_capture.release()\n",
    "cv2.destroyAllWindows()\n",
    "f.close()         "
   ]
  }
 ],
 "metadata": {
  "kernelspec": {
   "display_name": "Python 3",
   "language": "python",
   "name": "python3"
  },
  "language_info": {
   "codemirror_mode": {
    "name": "ipython",
    "version": 3
   },
   "file_extension": ".py",
   "mimetype": "text/x-python",
   "name": "python",
   "nbconvert_exporter": "python",
   "pygments_lexer": "ipython3",
   "version": "3.11.4"
  },
  "orig_nbformat": 4
 },
 "nbformat": 4,
 "nbformat_minor": 2
}
